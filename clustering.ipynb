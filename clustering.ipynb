{
 "cells": [
  {
   "cell_type": "markdown",
   "metadata": {},
   "source": [
    "## **UJIAN TENGAH SEMESTER DATA MINING**"
   ]
  },
  {
   "cell_type": "markdown",
   "metadata": {},
   "source": [
    "**Nama Anggota:**\n",
    "- Muhammad Rumi Rifai   - 140810220026\n",
    "- Adnan Hafizh Sinatria - 140810220048\n",
    "- Rio Irawan            - 140810220084"
   ]
  },
  {
   "cell_type": "markdown",
   "metadata": {},
   "source": [
    "## **Preprocessing Gambar**"
   ]
  },
  {
   "cell_type": "markdown",
   "metadata": {},
   "source": [
    "Pada bagian ini, gambar akan dimuat dari folder, diproses (resize, konversi ke RGB), dan dinormalisasi."
   ]
  },
  {
   "cell_type": "code",
   "execution_count": null,
   "metadata": {},
   "outputs": [],
   "source": [
    "import os\n",
    "from PIL import Image\n",
    "import numpy as np\n",
    "\n",
    "# Path to the folder containing the images\n",
    "folder_path = './img'\n",
    "\n",
    "# Preprocessing Function (Resize, Convert to RGB, Normalize)\n",
    "def preprocess_image(img, size=(300, 300)):\n",
    "    # Resize the image\n",
    "    img_resized = img.resize(size)\n",
    "    \n",
    "    # Convert RGBA to RGB if necessary\n",
    "    img_rgb = img_resized.convert('RGB')\n",
    "    \n",
    "    # Normalize pixel values to [0, 1]\n",
    "    img_array_rgb = np.array(img_rgb) / 255.0\n",
    "    \n",
    "    return img_array_rgb\n",
    "\n",
    "# List to store processed images\n",
    "processed_images = []\n",
    "\n",
    "# Loop through all files in the folder\n",
    "for file_name in os.listdir(folder_path):\n",
    "    if file_name.endswith(('.png', '.jpg', '.jpeg')):  # Add other image formats if needed\n",
    "        image_path = os.path.join(folder_path, file_name)\n",
    "        \n",
    "        # Open and preprocess the image\n",
    "        img = Image.open(image_path)\n",
    "        processed_img = preprocess_image(img)\n",
    "        processed_images.append(processed_img)\n",
    "\n",
    "# Output the shape of each processed image\n",
    "for i, img in enumerate(processed_images):\n",
    "    print(f\"Processed Image {i+1} Shape:\", img.shape)\n"
   ]
  },
  {
   "cell_type": "markdown",
   "metadata": {},
   "source": [
    "## **EKSTRAKSI FITUR**"
   ]
  },
  {
   "cell_type": "markdown",
   "metadata": {},
   "source": [
    "Fitur-fitur yang akan diekstrak meliputi warna (mean RGB), tekstur (variance), dan spasial (rata-rata per grid)."
   ]
  },
  {
   "cell_type": "code",
   "execution_count": 18,
   "metadata": {},
   "outputs": [],
   "source": [
    "# Feature extraction functions\n",
    "def extract_color_features(img_array):\n",
    "    # Calculate mean color for each channel (R, G, B)\n",
    "    mean_colors = np.mean(img_array, axis=(0, 1))  # Mean across width and height\n",
    "    return mean_colors\n",
    "\n",
    "def extract_texture_features(img_array):\n",
    "    # Calculate variance of pixel intensities to capture texture information\n",
    "    variance = np.var(img_array, axis=(0, 1))  # Variance across width and height\n",
    "    return variance\n",
    "\n",
    "def extract_spatial_features(img_array, grid_size=(5, 5)):\n",
    "    # Split the image into a grid and calculate mean for each grid cell\n",
    "    h, w, c = img_array.shape\n",
    "    grid_h, grid_w = grid_size\n",
    "    spatial_features = []\n",
    "    \n",
    "    # Calculate the height and width of each grid cell\n",
    "    cell_h, cell_w = h // grid_h, w // grid_w\n",
    "    \n",
    "    # Loop through grid cells and calculate mean pixel values\n",
    "    for i in range(grid_h):\n",
    "        for j in range(grid_w):\n",
    "            cell = img_array[i*cell_h:(i+1)*cell_h, j*cell_w:(j+1)*cell_w, :]\n",
    "            spatial_features.append(np.mean(cell, axis=(0, 1)))  # Mean of R, G, B values for each cell\n",
    "    \n",
    "    # Flatten the list of spatial features into a 1D array\n",
    "    return np.array(spatial_features).flatten()\n"
   ]
  },
  {
   "cell_type": "markdown",
   "metadata": {},
   "source": [
    "## Menggabungkan Fitur"
   ]
  },
  {
   "cell_type": "markdown",
   "metadata": {},
   "source": [
    "Bagian ini akan menggunakan fungsi ekstraksi fitur untuk memproses setiap gambar yang telah di-preprocessing, lalu menyimpan hasil ekstraksi ke dalam variabel terpisah."
   ]
  },
  {
   "cell_type": "code",
   "execution_count": null,
   "metadata": {},
   "outputs": [],
   "source": [
    "# Lists to store features\n",
    "color_features_list = []\n",
    "texture_features_list = []\n",
    "spatial_features_list = []\n",
    "\n",
    "# Extract features for each processed image\n",
    "for img in processed_images:\n",
    "    color_features = extract_color_features(img)\n",
    "    texture_features = extract_texture_features(img)\n",
    "    spatial_features = extract_spatial_features(img)\n",
    "    \n",
    "    # Store features\n",
    "    color_features_list.append(color_features)\n",
    "    texture_features_list.append(texture_features)\n",
    "    spatial_features_list.append(spatial_features)\n",
    "\n",
    "# Output features for each processed image\n",
    "for i in range(len(processed_images)):\n",
    "    print(f\"Color Features for Image {i+1}:\", color_features_list[i])\n",
    "    print(f\"Texture Features for Image {i+1}:\", texture_features_list[i])\n",
    "    print(f\"Spatial Features for Image {i+1}:\", spatial_features_list[i])\n"
   ]
  },
  {
   "cell_type": "markdown",
   "metadata": {},
   "source": [
    "## Visualisasi Fitur"
   ]
  },
  {
   "cell_type": "markdown",
   "metadata": {},
   "source": [
    "Pada bagian ini, kita akan menampilkan visualisasi dari fitur yang telah diekstraksi, seperti rata-rata RGB untuk satu gambar."
   ]
  },
  {
   "cell_type": "code",
   "execution_count": null,
   "metadata": {},
   "outputs": [],
   "source": [
    "import matplotlib.pyplot as plt\n",
    "\n",
    "# Visualize Color Features for the First Image\n",
    "plt.figure(figsize=(10, 5))\n",
    "plt.bar(['Red', 'Green', 'Blue'], color_features_list[0])\n",
    "plt.title('Mean Color Features for Image 1')\n",
    "plt.show()\n"
   ]
  },
  {
   "cell_type": "markdown",
   "metadata": {},
   "source": [
    "## Cek Hasil Ekstraksi"
   ]
  },
  {
   "cell_type": "markdown",
   "metadata": {},
   "source": [
    "Menampilkan sebagian kecil dari array gambar yang sudah diproses untuk memastikan bahwa preprocessing berjalan dengan baik."
   ]
  },
  {
   "cell_type": "code",
   "execution_count": null,
   "metadata": {},
   "outputs": [],
   "source": [
    "# Display a small portion of the array to check correctness for the first image\n",
    "for i, img in enumerate(processed_images):\n",
    "    print(f\"Sample from Image {i+1} Array:\", img[0:2, 0:2, :])\n"
   ]
  }
 ],
 "metadata": {
  "kernelspec": {
   "display_name": "Python 3",
   "language": "python",
   "name": "python3"
  },
  "language_info": {
   "codemirror_mode": {
    "name": "ipython",
    "version": 3
   },
   "file_extension": ".py",
   "mimetype": "text/x-python",
   "name": "python",
   "nbconvert_exporter": "python",
   "pygments_lexer": "ipython3",
   "version": "3.11.5"
  }
 },
 "nbformat": 4,
 "nbformat_minor": 2
}
