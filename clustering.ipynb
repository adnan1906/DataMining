{
 "cells": [
  {
   "cell_type": "markdown",
   "metadata": {},
   "source": [
    "**PREPROCESSING DATA**"
   ]
  },
  {
   "cell_type": "code",
   "execution_count": 1,
   "metadata": {},
   "outputs": [
    {
     "name": "stdout",
     "output_type": "stream",
     "text": [
      "Processed Image 1 Shape: (300, 300, 3)\n",
      "Processed Image 2 Shape: (300, 300, 3)\n",
      "Processed Image 3 Shape: (300, 300, 3)\n",
      "Processed Image 4 Shape: (300, 300, 3)\n",
      "Processed Image 5 Shape: (300, 300, 3)\n",
      "Processed Image 6 Shape: (300, 300, 3)\n",
      "Processed Image 7 Shape: (300, 300, 3)\n",
      "Sample from Image 1 Array: [[[0.16470588 0.09803922 0.1254902 ]\n",
      "  [0.31764706 0.24705882 0.2745098 ]]\n",
      "\n",
      " [[0.2        0.1372549  0.16078431]\n",
      "  [0.25490196 0.18431373 0.21176471]]]\n",
      "Sample from Image 2 Array: [[[0.22352941 0.29019608 0.3254902 ]\n",
      "  [0.24313725 0.30196078 0.34509804]]\n",
      "\n",
      " [[0.19607843 0.27058824 0.30196078]\n",
      "  [0.23529412 0.30196078 0.34509804]]]\n",
      "Sample from Image 3 Array: [[[0.10588235 0.16078431 0.16470588]\n",
      "  [0.10588235 0.16078431 0.16470588]]\n",
      "\n",
      " [[0.09411765 0.14901961 0.15294118]\n",
      "  [0.09803922 0.15294118 0.15686275]]]\n",
      "Sample from Image 4 Array: [[[0.09803922 0.18039216 0.15294118]\n",
      "  [0.18823529 0.27843137 0.23921569]]\n",
      "\n",
      " [[0.0627451  0.14509804 0.11764706]\n",
      "  [0.13333333 0.21960784 0.18431373]]]\n",
      "Sample from Image 5 Array: [[[0.81568627 0.80392157 0.74509804]\n",
      "  [0.81960784 0.80392157 0.75686275]]\n",
      "\n",
      " [[0.83137255 0.80784314 0.76078431]\n",
      "  [0.83137255 0.80784314 0.76470588]]]\n",
      "Sample from Image 6 Array: [[[0.73333333 0.69803922 0.63137255]\n",
      "  [0.65490196 0.64705882 0.59607843]]\n",
      "\n",
      " [[0.74509804 0.70196078 0.63137255]\n",
      "  [0.7372549  0.71764706 0.65490196]]]\n",
      "Sample from Image 7 Array: [[[0.10588235 0.2        0.16470588]\n",
      "  [0.07843137 0.18039216 0.13333333]]\n",
      "\n",
      " [[0.05490196 0.14117647 0.10196078]\n",
      "  [0.04313725 0.14117647 0.08627451]]]\n"
     ]
    }
   ],
   "source": [
    "import os\n",
    "from PIL import Image\n",
    "import numpy as np\n",
    "\n",
    "# Path to the folder containing the images\n",
    "folder_path = 'D:/Semester 5/DataMining/'\n",
    "\n",
    "# Preprocessing Function (Resize, Convert to RGB, Normalize)\n",
    "def preprocess_image(img, size=(300, 300)):\n",
    "    # Resize the image\n",
    "    img_resized = img.resize(size)\n",
    "    \n",
    "    # Convert RGBA to RGB if necessary\n",
    "    img_rgb = img_resized.convert('RGB')\n",
    "    \n",
    "    # Normalize pixel values to [0, 1]\n",
    "    img_array_rgb = np.array(img_rgb) / 255.0\n",
    "    \n",
    "    return img_array_rgb\n",
    "\n",
    "# List to store processed images\n",
    "processed_images = []\n",
    "\n",
    "# Loop through all files in the folder\n",
    "for file_name in os.listdir(folder_path):\n",
    "    if file_name.endswith('.png') or file_name.endswith('.jpg') or file_name.endswith('.jpeg'):  # Add other image formats if needed\n",
    "        image_path = os.path.join(folder_path, file_name)\n",
    "        \n",
    "        # Open and preprocess the image\n",
    "        img = Image.open(image_path)\n",
    "        processed_img = preprocess_image(img)\n",
    "        processed_images.append(processed_img)\n",
    "\n",
    "# Output the shape of each processed image\n",
    "for i, img in enumerate(processed_images):\n",
    "    print(f\"Processed Image {i+1} Shape:\", img.shape)\n",
    "\n",
    "# Display a small portion of the array to check correctness\n",
    "for i, img in enumerate(processed_images):\n",
    "    print(f\"Sample from Image {i+1} Array:\", img[0:2, 0:2, :])\n",
    "\n",
    "# Continue with further steps like feature extraction or clustering"
   ]
  }
 ],
 "metadata": {
  "kernelspec": {
   "display_name": "Python 3",
   "language": "python",
   "name": "python3"
  },
  "language_info": {
   "codemirror_mode": {
    "name": "ipython",
    "version": 3
   },
   "file_extension": ".py",
   "mimetype": "text/x-python",
   "name": "python",
   "nbconvert_exporter": "python",
   "pygments_lexer": "ipython3",
   "version": "3.11.5"
  }
 },
 "nbformat": 4,
 "nbformat_minor": 2
}
